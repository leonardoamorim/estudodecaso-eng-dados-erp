{
 "cells": [
  {
   "cell_type": "markdown",
   "metadata": {},
   "source": [
    "# Enriquecimento de clientes\n",
    "\n",
    "Nesse notebook vamos utilizar os dados criados na etapa anterior para enriquecer os clientes com *features* que serão utilizadas no algoritmo de Machine Learning. Escolhemos as seguintes *features*:\n",
    "\n",
    "- **data de última compra**: clientes que estão há muito tempo sem comprar tem maior chance de estarem inadimplentes\n",
    "- **valor médio de compras nos últimos 4, 8 e 12 meses**\n",
    "- **média do número de itens de produto comprados nos últimos 4, 8 e 12 meses**\n",
    "\n",
    "O valor médio da compra e o número de itens comprados nos últimos 4, 8 e 12 meses são importantes para descrever o grau de atividade do cliente na empresa."
   ]
  },
  {
   "cell_type": "markdown",
   "metadata": {},
   "source": [
    "## Preparando o ambiente\n",
    "\n",
    "O código abaixo adiciona a **raiz** do projeto, que contém códigos e dados necessários para o \"Hands on\"."
   ]
  },
  {
   "cell_type": "code",
   "execution_count": 1,
   "metadata": {},
   "outputs": [],
   "source": [
    "root = '/home/bigdata/jupyterhub'\n",
    "\n",
    "import sys\n",
    "sys.path.append(root)\n",
    "\n",
    "wd = '/delta'"
   ]
  },
  {
   "cell_type": "markdown",
   "metadata": {},
   "source": [
    "O trecho de código abaixo prepara o ambiente, carregando códigos auxiliares e dados de configuração.O código disponível no pacote *commom.utils* na classe *DataframeUtils* contém vários métodos que facilitam a leitura e escrita dos dados do Postgres. A classe *DataframeUtils* também inicia uma instância do Apache Spark com o Delta Lake integrado ao Spark.\n",
    "\n",
    "Já o arquivo *config.yaml* tem os dados de acesso ao Postgres e Kafka."
   ]
  },
  {
   "cell_type": "code",
   "execution_count": 2,
   "metadata": {},
   "outputs": [],
   "source": [
    "import yaml\n",
    "\n",
    "from common.utils import DataframeUtils\n",
    "import pyspark.sql.functions as F\n",
    "\n",
    "config = yaml.safe_load(open('../config.yaml'))\n",
    "dfu = DataframeUtils(config)\n",
    "\n",
    "# Spark session\n",
    "spark = dfu.spark()"
   ]
  },
  {
   "cell_type": "markdown",
   "metadata": {},
   "source": [
    "Os trechos abaixo criam os Dataframes com os dados de clientes e pedidos."
   ]
  },
  {
   "cell_type": "code",
   "execution_count": 3,
   "metadata": {},
   "outputs": [],
   "source": [
    "clientes = spark.read. \\\n",
    "              format('delta'). \\\n",
    "              load(f'{wd}/data/clientes-silver')"
   ]
  },
  {
   "cell_type": "code",
   "execution_count": 4,
   "metadata": {},
   "outputs": [],
   "source": [
    "pedidos = spark.read. \\\n",
    "              format('delta'). \\\n",
    "              load(f'{wd}/data/pedidos-silver')"
   ]
  },
  {
   "cell_type": "markdown",
   "metadata": {},
   "source": [
    "### Exercício\n",
    "\n",
    "Adicione o código que cria o Dataframe **itens** para armazenar os itens de pedido."
   ]
  },
  {
   "cell_type": "code",
   "execution_count": 5,
   "metadata": {},
   "outputs": [],
   "source": [
    "# código para criar o dataframe de itens de pedidos\n",
    "\n",
    "itens = spark.read. \\\n",
    "              format('delta'). \\\n",
    "              load(f'{wd}/data/itens-silver')"
   ]
  },
  {
   "cell_type": "markdown",
   "metadata": {},
   "source": [
    "## Última compra de cada cliente\n",
    "\n",
    "O código abaixo agrega os dados de pedidos para obter a data de última compra de cada cliente utilizando a API do Spark. Os dados são agregados por cliente (groupby) e obtida o maior valor da data de compra (order_date), definindo o nome da coluna para *ultima_compra* com o *alias(\"ultima_compra\")*. Estes dados são armazenados no DataFrame **ultima_compra_df**. Após este passo, uma junção (left join) é realizada entre o DataFrame **clientes** e o DataFrame **ultima_compra_df** para enriquecer clientes com dados de última compra. Os clientes enriquecidos ficarão armazenados no DataFrame **clientes_enriquecidos**."
   ]
  },
  {
   "cell_type": "code",
   "execution_count": 6,
   "metadata": {},
   "outputs": [
    {
     "name": "stdout",
     "output_type": "stream",
     "text": [
      "root\n",
      " |-- client_id: string (nullable = true)\n",
      " |-- key: string (nullable = true)\n",
      " |-- city: string (nullable = true)\n",
      " |-- state: string (nullable = true)\n",
      " |-- cnae_id: string (nullable = true)\n",
      " |-- defaulting: boolean (nullable = true)\n",
      " |-- timestamp: timestamp (nullable = true)\n",
      " |-- ultima_compra: date (nullable = true)\n",
      "\n"
     ]
    }
   ],
   "source": [
    "ultima_compra_df = pedidos.groupby(\"client_id\") \\\n",
    "                    .agg(F.max(\"order_date\").alias(\"ultima_compra\"))\n",
    "clientes_enriquecidos = clientes.join(ultima_compra_df, \"client_id\", \"left\")\n",
    "clientes_enriquecidos.printSchema()"
   ]
  },
  {
   "cell_type": "markdown",
   "metadata": {},
   "source": [
    "# Valor médio de compras de pedidos\n",
    "\n",
    "O trecho de código abaixo calcula o preço médio dos pedidos nos últimos 4 meses. O código é bem similiar ao enriquecimento de clientes. Os dados de pedidos são filtrados para obter apenas os pedidos realizados (*order_date*) nos últimos 4 meses ou 120 dias. Os dados filtrados são agregados por cliente (groupby) e obtida a média do valor de compra (*order_amount*) com o valor arredondado para duas casas decimais. O código define o nome *pedidos_4_meses* para a coluna que representa o valor médio de compras dos últimos 4 meses. Os dados são armazenados no DataFrame **avg_order_4m_df**. Após este passo, uma junção (left join) é realizada entre o DataFrame **clientes** e o DataFrame **avg_order_4m_df** para enriquecer clientes com dados do valor médio de compras dos últimos 4 meses. Os clientes enriquecidos ficarão armazenados no DataFrame **clientes_enriquecidos**."
   ]
  },
  {
   "cell_type": "markdown",
   "metadata": {},
   "source": [
    "### Pedidos: Valor médio de compra (últimos 4 meses)"
   ]
  },
  {
   "cell_type": "code",
   "execution_count": 7,
   "metadata": {},
   "outputs": [
    {
     "name": "stdout",
     "output_type": "stream",
     "text": [
      "root\n",
      " |-- client_id: string (nullable = true)\n",
      " |-- key: string (nullable = true)\n",
      " |-- city: string (nullable = true)\n",
      " |-- state: string (nullable = true)\n",
      " |-- cnae_id: string (nullable = true)\n",
      " |-- defaulting: boolean (nullable = true)\n",
      " |-- timestamp: timestamp (nullable = true)\n",
      " |-- ultima_compra: date (nullable = true)\n",
      " |-- pedidos_4_meses: double (nullable = true)\n",
      "\n"
     ]
    }
   ],
   "source": [
    "avg_order_4m_df = pedidos.filter(\"order_date >= date_sub(current_date, 120)\") \\\n",
    "                             .groupby(\"client_id\") \\\n",
    "                             .agg(F.round(F.avg(\"order_amount\"), 2).alias(\"pedidos_4_meses\"))\n",
    "\n",
    "clientes_enriquecidos = clientes_enriquecidos.join(avg_order_4m_df, \"client_id\", \"left\")\n",
    "clientes_enriquecidos.printSchema()"
   ]
  },
  {
   "cell_type": "markdown",
   "metadata": {},
   "source": [
    "### Exercício - Pedidos: Valor médio de compra (últimos 8 meses)\n",
    "\n",
    "Altere o filtro de dados e realizar a consulta para calcular o valor médio de pedidos dos últimos 8 meses. Enriqueça o DataFrame **clientes_enriquecidos** com uma nova coluna **pedidos_8_meses** com o valor médio de compra dos últimos 8 meses."
   ]
  },
  {
   "cell_type": "code",
   "execution_count": 8,
   "metadata": {},
   "outputs": [
    {
     "name": "stdout",
     "output_type": "stream",
     "text": [
      "root\n",
      " |-- client_id: string (nullable = true)\n",
      " |-- key: string (nullable = true)\n",
      " |-- city: string (nullable = true)\n",
      " |-- state: string (nullable = true)\n",
      " |-- cnae_id: string (nullable = true)\n",
      " |-- defaulting: boolean (nullable = true)\n",
      " |-- timestamp: timestamp (nullable = true)\n",
      " |-- ultima_compra: date (nullable = true)\n",
      " |-- pedidos_4_meses: double (nullable = true)\n",
      " |-- pedidos_8_meses: double (nullable = true)\n",
      "\n"
     ]
    }
   ],
   "source": [
    "avg_order_8m_df = pedidos.filter(\"order_date >= date_sub(current_date, 240)\") \\\n",
    "                             .groupby(\"client_id\") \\\n",
    "                             .agg(F.round(F.avg(\"order_amount\"), 2).alias(\"pedidos_8_meses\"))\n",
    "\n",
    "clientes_enriquecidos = clientes_enriquecidos.join(avg_order_8m_df, \"client_id\", \"left\")\n",
    "clientes_enriquecidos.printSchema()"
   ]
  },
  {
   "cell_type": "markdown",
   "metadata": {},
   "source": [
    "### Exercício - Pedidos: Valor médio de compra (últimos 12 meses)\n",
    "\n",
    "Altere o filtro de dados e realizar a consulta para calcular o valor médio de pedidos dos últimos 12 meses. Enriqueça o DataFrame **clientes_enriquecidos** com uma nova coluna **pedidos_12_meses** com o valor médio de compra dos últimos 12 meses."
   ]
  },
  {
   "cell_type": "code",
   "execution_count": 9,
   "metadata": {},
   "outputs": [
    {
     "name": "stdout",
     "output_type": "stream",
     "text": [
      "root\n",
      " |-- client_id: string (nullable = true)\n",
      " |-- key: string (nullable = true)\n",
      " |-- city: string (nullable = true)\n",
      " |-- state: string (nullable = true)\n",
      " |-- cnae_id: string (nullable = true)\n",
      " |-- defaulting: boolean (nullable = true)\n",
      " |-- timestamp: timestamp (nullable = true)\n",
      " |-- ultima_compra: date (nullable = true)\n",
      " |-- pedidos_4_meses: double (nullable = true)\n",
      " |-- pedidos_8_meses: double (nullable = true)\n",
      " |-- pedidos_12_meses: double (nullable = true)\n",
      "\n"
     ]
    }
   ],
   "source": [
    "avg_order_12m_df = pedidos.filter(\"order_date >= date_sub(current_date, 360)\") \\\n",
    "                             .groupby(\"client_id\") \\\n",
    "                             .agg(F.round(F.avg(\"order_amount\"), 2).alias(\"pedidos_12_meses\"))\n",
    "clientes_enriquecidos = clientes_enriquecidos.join(avg_order_12m_df, \"client_id\", \"left\")\n",
    "clientes_enriquecidos.printSchema()"
   ]
  },
  {
   "cell_type": "markdown",
   "metadata": {},
   "source": [
    "# Exercício - Quantidade média de itens pedidos\n",
    "\n",
    "Calcule o preço médio dos itens de pedidos dos últimos 4, 8 e 12 meses. Veja o código feito para pedidos e tente realizar o mesmo para itens de pedidos.\n",
    "\n",
    "**Dica**: a coluna **items_count** representa o número de itens vendidos em cada compra."
   ]
  },
  {
   "cell_type": "markdown",
   "metadata": {},
   "source": [
    "### Exercício - Quantidade média de itens de pedidos (4 meses)\n",
    "\n",
    "Enriqueça o DataFrame **clientes_enriquecidos** com uma nova coluna **itens_4_meses** com a quantidade média de itens de pedidos vendidos nos últimos 4 meses."
   ]
  },
  {
   "cell_type": "code",
   "execution_count": 10,
   "metadata": {},
   "outputs": [
    {
     "name": "stdout",
     "output_type": "stream",
     "text": [
      "root\n",
      " |-- client_id: string (nullable = true)\n",
      " |-- key: string (nullable = true)\n",
      " |-- city: string (nullable = true)\n",
      " |-- state: string (nullable = true)\n",
      " |-- cnae_id: string (nullable = true)\n",
      " |-- defaulting: boolean (nullable = true)\n",
      " |-- timestamp: timestamp (nullable = true)\n",
      " |-- ultima_compra: date (nullable = true)\n",
      " |-- pedidos_4_meses: double (nullable = true)\n",
      " |-- pedidos_8_meses: double (nullable = true)\n",
      " |-- pedidos_12_meses: double (nullable = true)\n",
      " |-- itens_4_meses: double (nullable = true)\n",
      "\n"
     ]
    }
   ],
   "source": [
    "avg_itens_4m_df = itens.filter(\"order_date >= date_sub(current_date, 120)\") \\\n",
    "                             .groupby(\"client_id\") \\\n",
    "                             .agg(F.round(F.avg(\"items_count\"), 2).alias(\"itens_4_meses\"))\n",
    "clientes_enriquecidos = clientes_enriquecidos.join(avg_itens_4m_df, \"client_id\", \"left\")\n",
    "clientes_enriquecidos.printSchema()"
   ]
  },
  {
   "cell_type": "markdown",
   "metadata": {},
   "source": [
    "### Exercício - Quantidade média de itens de pedidos (8 meses)\n",
    "\n",
    "Enriqueça o DataFrame **clientes_enriquecidos** com uma nova coluna **itens_8_meses** com a quantidade média de itens de pedidos vendidos nos últimos 8 meses."
   ]
  },
  {
   "cell_type": "code",
   "execution_count": 11,
   "metadata": {},
   "outputs": [
    {
     "name": "stdout",
     "output_type": "stream",
     "text": [
      "root\n",
      " |-- client_id: string (nullable = true)\n",
      " |-- key: string (nullable = true)\n",
      " |-- city: string (nullable = true)\n",
      " |-- state: string (nullable = true)\n",
      " |-- cnae_id: string (nullable = true)\n",
      " |-- defaulting: boolean (nullable = true)\n",
      " |-- timestamp: timestamp (nullable = true)\n",
      " |-- ultima_compra: date (nullable = true)\n",
      " |-- pedidos_4_meses: double (nullable = true)\n",
      " |-- pedidos_8_meses: double (nullable = true)\n",
      " |-- pedidos_12_meses: double (nullable = true)\n",
      " |-- itens_4_meses: double (nullable = true)\n",
      " |-- itens_8_meses: double (nullable = true)\n",
      "\n"
     ]
    }
   ],
   "source": [
    "avg_itens_8m_df = itens.filter(\"order_date >= date_sub(current_date, 240)\") \\\n",
    "                             .groupby(\"client_id\") \\\n",
    "                             .agg(F.round(F.avg(\"items_count\"), 2).alias(\"itens_8_meses\"))\n",
    "clientes_enriquecidos = clientes_enriquecidos.join(avg_itens_8m_df, \"client_id\", \"left\")\n",
    "clientes_enriquecidos.printSchema()"
   ]
  },
  {
   "cell_type": "markdown",
   "metadata": {},
   "source": [
    "### Exercício - Quantidade média de itens de pedidos (12 meses)\n",
    "\n",
    "Enriqueça o DataFrame **clientes_enriquecidos** com uma nova coluna **itens_12_meses** com a quantidade média de itens de pedidos vendidos nos últimos 12 meses."
   ]
  },
  {
   "cell_type": "code",
   "execution_count": 12,
   "metadata": {},
   "outputs": [
    {
     "name": "stdout",
     "output_type": "stream",
     "text": [
      "root\n",
      " |-- client_id: string (nullable = true)\n",
      " |-- key: string (nullable = true)\n",
      " |-- city: string (nullable = true)\n",
      " |-- state: string (nullable = true)\n",
      " |-- cnae_id: string (nullable = true)\n",
      " |-- defaulting: boolean (nullable = true)\n",
      " |-- timestamp: timestamp (nullable = true)\n",
      " |-- ultima_compra: date (nullable = true)\n",
      " |-- pedidos_4_meses: double (nullable = true)\n",
      " |-- pedidos_8_meses: double (nullable = true)\n",
      " |-- pedidos_12_meses: double (nullable = true)\n",
      " |-- itens_4_meses: double (nullable = true)\n",
      " |-- itens_8_meses: double (nullable = true)\n",
      " |-- itens_12_meses: double (nullable = true)\n",
      "\n"
     ]
    }
   ],
   "source": [
    "avg_itens_12m_df = itens.filter(\"order_date >= date_sub(current_date, 360)\") \\\n",
    "                             .groupby(\"client_id\") \\\n",
    "                             .agg(F.round(F.avg(\"items_count\"), 2).alias(\"itens_12_meses\"))\n",
    "clientes_enriquecidos = clientes_enriquecidos.join(avg_itens_12m_df, \"client_id\", \"left\")\n",
    "clientes_enriquecidos.printSchema()"
   ]
  },
  {
   "cell_type": "markdown",
   "metadata": {},
   "source": [
    "# Exercício - Escrita na Tabela Gold\n",
    "\n",
    "Nesta última etapa, o DataFrame *clientes_enriquecidos* é escrito na tabela gold no formato **Delta** em \"/data/gold\". Modifique o código para salvar também no formato **Parquet** em \"/data/gold-parquet\"."
   ]
  },
  {
   "cell_type": "code",
   "execution_count": 13,
   "metadata": {},
   "outputs": [],
   "source": [
    "clientes_enriquecidos. \\\n",
    "  write. \\\n",
    "  mode('overwrite'). \\\n",
    "  format('delta'). \\\n",
    "  save(f'{wd}/data/gold')"
   ]
  },
  {
   "cell_type": "code",
   "execution_count": 14,
   "metadata": {},
   "outputs": [],
   "source": [
    "clientes_enriquecidos. \\\n",
    "  write. \\\n",
    "  mode('overwrite'). \\\n",
    "  format('parquet'). \\\n",
    "  save(f'{wd}/data/gold-parquet')"
   ]
  },
  {
   "cell_type": "markdown",
   "metadata": {},
   "source": [
    "# Próxima etapa\n",
    "\n",
    "Agora os dados estão prontos para serem utilizados nos algoritmos de aprendizado de máquina com o objetivo de predizer se o cliente está inadimplente. \n",
    "\n",
    "Você acha que poderia adicionar mais alguma *feature* importante para o algoritmo de aprendizado de máquina?"
   ]
  },
  {
   "cell_type": "code",
   "execution_count": null,
   "metadata": {},
   "outputs": [],
   "source": []
  }
 ],
 "metadata": {
  "kernelspec": {
   "display_name": "Python 3",
   "language": "python",
   "name": "python3"
  },
  "language_info": {
   "codemirror_mode": {
    "name": "ipython",
    "version": 3
   },
   "file_extension": ".py",
   "mimetype": "text/x-python",
   "name": "python",
   "nbconvert_exporter": "python",
   "pygments_lexer": "ipython3",
   "version": "3.7.7"
  }
 },
 "nbformat": 4,
 "nbformat_minor": 4
}
